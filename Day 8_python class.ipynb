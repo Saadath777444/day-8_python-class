{
 "cells": [
  {
   "cell_type": "code",
   "execution_count": null,
   "id": "59ada14f",
   "metadata": {},
   "outputs": [],
   "source": [
    "Introduction to dictionaries :"
   ]
  },
  {
   "cell_type": "code",
   "execution_count": null,
   "id": "e0868a52",
   "metadata": {},
   "outputs": [],
   "source": [
    "#req   : i want to create a alien game"
   ]
  },
  {
   "cell_type": "code",
   "execution_count": 1,
   "id": "d347b048",
   "metadata": {},
   "outputs": [],
   "source": [
    "alien = {'color':'green','points':5}"
   ]
  },
  {
   "cell_type": "code",
   "execution_count": 2,
   "id": "b527f5b8",
   "metadata": {},
   "outputs": [
    {
     "name": "stdout",
     "output_type": "stream",
     "text": [
      "{'color': 'green', 'points': 5}\n"
     ]
    }
   ],
   "source": [
    "print(alien)"
   ]
  },
  {
   "cell_type": "code",
   "execution_count": 3,
   "id": "0391dfb6",
   "metadata": {},
   "outputs": [
    {
     "data": {
      "text/plain": [
       "dict"
      ]
     },
     "execution_count": 3,
     "metadata": {},
     "output_type": "execute_result"
    }
   ],
   "source": [
    "type(alien)"
   ]
  },
  {
   "cell_type": "code",
   "execution_count": null,
   "id": "fbd8a282",
   "metadata": {},
   "outputs": [],
   "source": [
    "# how to access the key value pairs...."
   ]
  },
  {
   "cell_type": "code",
   "execution_count": null,
   "id": "2cfac1ca",
   "metadata": {},
   "outputs": [],
   "source": [
    "# how many points for killing an alien"
   ]
  },
  {
   "cell_type": "code",
   "execution_count": 4,
   "id": "d0b8e671",
   "metadata": {},
   "outputs": [
    {
     "name": "stdout",
     "output_type": "stream",
     "text": [
      "5\n"
     ]
    }
   ],
   "source": [
    "print(alien['points'])"
   ]
  },
  {
   "cell_type": "code",
   "execution_count": null,
   "id": "04f838d1",
   "metadata": {},
   "outputs": [],
   "source": [
    "#can we give the value and get the key....?"
   ]
  },
  {
   "cell_type": "code",
   "execution_count": 5,
   "id": "68af1e61",
   "metadata": {},
   "outputs": [
    {
     "ename": "KeyError",
     "evalue": "'green'",
     "output_type": "error",
     "traceback": [
      "\u001b[1;31m---------------------------------------------------------------------------\u001b[0m",
      "\u001b[1;31mKeyError\u001b[0m                                  Traceback (most recent call last)",
      "\u001b[1;32m<ipython-input-5-7aa8df162af6>\u001b[0m in \u001b[0;36m<module>\u001b[1;34m\u001b[0m\n\u001b[1;32m----> 1\u001b[1;33m \u001b[0mprint\u001b[0m\u001b[1;33m(\u001b[0m\u001b[0malien\u001b[0m\u001b[1;33m[\u001b[0m\u001b[1;34m'green'\u001b[0m\u001b[1;33m]\u001b[0m\u001b[1;33m)\u001b[0m\u001b[1;33m\u001b[0m\u001b[1;33m\u001b[0m\u001b[0m\n\u001b[0m",
      "\u001b[1;31mKeyError\u001b[0m: 'green'"
     ]
    }
   ],
   "source": [
    "print(alien['green'])"
   ]
  },
  {
   "cell_type": "code",
   "execution_count": null,
   "id": "a2387b7c",
   "metadata": {},
   "outputs": [],
   "source": [
    "# how to add new key value pairs.... to the dictionary...."
   ]
  },
  {
   "cell_type": "code",
   "execution_count": null,
   "id": "4043ff99",
   "metadata": {},
   "outputs": [],
   "source": [
    "#i want to add level-1"
   ]
  },
  {
   "cell_type": "code",
   "execution_count": 6,
   "id": "4be0c92e",
   "metadata": {},
   "outputs": [],
   "source": [
    "alien['level'] = 1"
   ]
  },
  {
   "cell_type": "code",
   "execution_count": 7,
   "id": "98d78628",
   "metadata": {},
   "outputs": [
    {
     "name": "stdout",
     "output_type": "stream",
     "text": [
      "{'color': 'green', 'points': 5, 'level': 1}\n"
     ]
    }
   ],
   "source": [
    "print(alien)"
   ]
  },
  {
   "cell_type": "code",
   "execution_count": null,
   "id": "3ffa29be",
   "metadata": {},
   "outputs": [],
   "source": [
    "# req : i want to delete points.."
   ]
  },
  {
   "cell_type": "code",
   "execution_count": 9,
   "id": "fe2363c9",
   "metadata": {},
   "outputs": [],
   "source": [
    "del alien['points']"
   ]
  },
  {
   "cell_type": "code",
   "execution_count": 10,
   "id": "a57d4c68",
   "metadata": {},
   "outputs": [
    {
     "name": "stdout",
     "output_type": "stream",
     "text": [
      "{'color': 'green', 'level': 1}\n"
     ]
    }
   ],
   "source": [
    "print(alien)"
   ]
  },
  {
   "cell_type": "code",
   "execution_count": null,
   "id": "cf257bab",
   "metadata": {},
   "outputs": [],
   "source": [
    "implimentation of a for loop on a dictionary :"
   ]
  },
  {
   "cell_type": "code",
   "execution_count": null,
   "id": "fbe7db42",
   "metadata": {},
   "outputs": [],
   "source": []
  },
  {
   "cell_type": "code",
   "execution_count": null,
   "id": "bd806e27",
   "metadata": {},
   "outputs": [],
   "source": [
    "# general syntax :\n",
    "for tempvar1,tempvar2 in  mainvar.items():\n",
    "    print(tempvar1)\n",
    "    print(tempvar2)"
   ]
  },
  {
   "cell_type": "code",
   "execution_count": 11,
   "id": "d36c98c1",
   "metadata": {},
   "outputs": [
    {
     "name": "stdout",
     "output_type": "stream",
     "text": [
      "color\n",
      "green\n",
      "level\n",
      "1\n"
     ]
    }
   ],
   "source": [
    "for k,v in alien.items():\n",
    "    print(k)\n",
    "    print(v)\n",
    "    "
   ]
  },
  {
   "cell_type": "code",
   "execution_count": 12,
   "id": "490f48e2",
   "metadata": {},
   "outputs": [
    {
     "name": "stdout",
     "output_type": "stream",
     "text": [
      "key : color\n",
      "value:green\n",
      "key : level\n",
      "value:1\n"
     ]
    }
   ],
   "source": [
    "for k,v in alien.items():\n",
    "    print(f\"key : {k}\")\n",
    "    print(f\"value:{v}\")"
   ]
  },
  {
   "cell_type": "code",
   "execution_count": null,
   "id": "6c368e2d",
   "metadata": {},
   "outputs": [],
   "source": [
    "# req : create a user account in facebook:"
   ]
  },
  {
   "cell_type": "code",
   "execution_count": 14,
   "id": "e795c640",
   "metadata": {},
   "outputs": [],
   "source": [
    "user_name = {'first_name':'code','last_name':'training','password':'54321','dob':'01-01-2020'}\n"
   ]
  },
  {
   "cell_type": "code",
   "execution_count": 15,
   "id": "9f35b4da",
   "metadata": {},
   "outputs": [
    {
     "name": "stdout",
     "output_type": "stream",
     "text": [
      "{'first_name': 'code', 'last_name': 'training', 'password': '54321', 'dob': '01-01-2020'}\n"
     ]
    }
   ],
   "source": [
    "print(user_name)"
   ]
  },
  {
   "cell_type": "code",
   "execution_count": null,
   "id": "b7fa39d3",
   "metadata": {},
   "outputs": [],
   "source": [
    "#location :arch cofe"
   ]
  },
  {
   "cell_type": "code",
   "execution_count": 16,
   "id": "0f9596c5",
   "metadata": {},
   "outputs": [],
   "source": [
    "user_name['location'] = 'arch_cafe'"
   ]
  },
  {
   "cell_type": "code",
   "execution_count": 17,
   "id": "41fbbc46",
   "metadata": {},
   "outputs": [
    {
     "name": "stdout",
     "output_type": "stream",
     "text": [
      "{'first_name': 'code', 'last_name': 'training', 'password': '54321', 'dob': '01-01-2020', 'location': 'arch_cafe'}\n"
     ]
    }
   ],
   "source": [
    "print(user_name)"
   ]
  },
  {
   "cell_type": "code",
   "execution_count": null,
   "id": "2b0c4281",
   "metadata": {},
   "outputs": [],
   "source": []
  },
  {
   "cell_type": "code",
   "execution_count": null,
   "id": "24465c3e",
   "metadata": {},
   "outputs": [],
   "source": []
  },
  {
   "cell_type": "code",
   "execution_count": null,
   "id": "5b027eb6",
   "metadata": {},
   "outputs": [],
   "source": []
  }
 ],
 "metadata": {
  "kernelspec": {
   "display_name": "Python 3",
   "language": "python",
   "name": "python3"
  },
  "language_info": {
   "codemirror_mode": {
    "name": "ipython",
    "version": 3
   },
   "file_extension": ".py",
   "mimetype": "text/x-python",
   "name": "python",
   "nbconvert_exporter": "python",
   "pygments_lexer": "ipython3",
   "version": "3.8.8"
  }
 },
 "nbformat": 4,
 "nbformat_minor": 5
}
